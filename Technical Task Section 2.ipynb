{
 "cells": [
  {
   "cell_type": "markdown",
   "id": "9f9c3e28-3ed3-48ae-85e5-87bb438b9c8e",
   "metadata": {},
   "source": [
    "### Part 1"
   ]
  },
  {
   "cell_type": "code",
   "execution_count": 2,
   "id": "7bb19ad7-a604-4c2b-b9a6-2b6fc7b29b4a",
   "metadata": {},
   "outputs": [
    {
     "data": {
      "text/plain": [
       "array([[21, 22, 23, 24, 25],\n",
       "       [20,  7,  8,  9, 10],\n",
       "       [19,  6,  1,  2, 11],\n",
       "       [18,  5,  4,  3, 12],\n",
       "       [17, 16, 15, 14, 13]])"
      ]
     },
     "execution_count": 2,
     "metadata": {},
     "output_type": "execute_result"
    }
   ],
   "source": [
    "import numpy as np\n",
    "\n",
    "def square_matrix(n):\n",
    "    matrix = np.zeros((n,n), dtype=int)\n",
    "    left, right, top, bottom = 0, n-1, 0, n-1      \n",
    "    num = n*n\n",
    "\n",
    "    while left<=right and top<=bottom:\n",
    "        \n",
    "        # fill top row\n",
    "        for i in range(right, left-1,-1):\n",
    "            matrix[top][i] = num\n",
    "            num -= 1\n",
    "        top +=1   \n",
    "\n",
    "        \n",
    "        # fill left column\n",
    "        for i in range(top, bottom+1):  \n",
    "            matrix[i][left]=num    \n",
    "            num -=1\n",
    "        left +=1   \n",
    "\n",
    "\n",
    "\n",
    "        # fill bottom row\n",
    "        for i in range(left, right+1):\n",
    "            matrix[bottom][i]=num\n",
    "            num -=1\n",
    "        bottom -=1\n",
    "\n",
    "\n",
    "\n",
    "         # fill right column\n",
    "        for i in range(bottom, top-1,-1):  \n",
    "            matrix[i][right]=num    \n",
    "            num -=1\n",
    "        right -=1   \n",
    "    \n",
    "        \n",
    "\n",
    "\n",
    "    return matrix\n",
    "\n",
    "k = square_matrix(5)\n",
    "k\n",
    "    "
   ]
  },
  {
   "cell_type": "markdown",
   "id": "37f35cf9-c6e7-4fa1-b224-10529282b395",
   "metadata": {},
   "source": [
    "### Part 2"
   ]
  },
  {
   "cell_type": "code",
   "execution_count": 5,
   "id": "2e934d31-e2c1-4c0c-b82a-fd0a83ebe8c0",
   "metadata": {},
   "outputs": [
    {
     "name": "stdout",
     "output_type": "stream",
     "text": [
      "Sum of Left Diagonal:  45\n",
      "Sum of Right Diagonal:  57\n"
     ]
    }
   ],
   "source": [
    "def diagonals(matrix):\n",
    "\n",
    "    # sum of left diagonal\n",
    "    sum_left=0\n",
    "    for i in range(0, len(matrix)):\n",
    "        for j in range(0, len(matrix)):\n",
    "            if i==j:\n",
    "                sum_left+=matrix[i][j]\n",
    "    print('Sum of Left Diagonal: ', sum_left)\n",
    "\n",
    "\n",
    "\n",
    "    # sum of right diagonal\n",
    "    m = []\n",
    "    for i in range(len(matrix)):\n",
    "        m.append(matrix[i][::-1])\n",
    "\n",
    "    sum_right=0\n",
    "    for i in range(0, len(m)):\n",
    "        for j in range(0, len(m)):\n",
    "            if i==j:\n",
    "                sum_right+=m[i][j]\n",
    "    print('Sum of Right Diagonal: ', sum_right)\n",
    "        \n",
    "            \n",
    "        \n",
    "        \n",
    "    \n",
    "    \n",
    "\n",
    "\n",
    "\n",
    "diagonals(k)"
   ]
  },
  {
   "cell_type": "code",
   "execution_count": null,
   "id": "7c8fffe2-c079-47c2-8742-97801f6e1eb3",
   "metadata": {},
   "outputs": [],
   "source": []
  }
 ],
 "metadata": {
  "kernelspec": {
   "display_name": "Python 3 (ipykernel)",
   "language": "python",
   "name": "python3"
  },
  "language_info": {
   "codemirror_mode": {
    "name": "ipython",
    "version": 3
   },
   "file_extension": ".py",
   "mimetype": "text/x-python",
   "name": "python",
   "nbconvert_exporter": "python",
   "pygments_lexer": "ipython3",
   "version": "3.12.4"
  }
 },
 "nbformat": 4,
 "nbformat_minor": 5
}
